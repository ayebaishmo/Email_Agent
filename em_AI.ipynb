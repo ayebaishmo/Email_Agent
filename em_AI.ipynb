{
 "cells": [
  {
   "cell_type": "code",
   "execution_count": 44,
   "metadata": {},
   "outputs": [],
   "source": [
    "import os\n",
    "from dotenv import dotenv_values\n",
    "import google.generativeai as genai\n",
    "import smtplib\n",
    "from email.message import EmailMessage\n",
    "from dotenv import load_dotenv"
   ]
  },
  {
   "cell_type": "code",
   "execution_count": 45,
   "metadata": {},
   "outputs": [],
   "source": [
    "load_dotenv()\n",
    "GEMINI_API_KEY = os.getenv(\"API_KEY\")\n",
    "GMAIL_APP_PASSWORD = os.getenv(\"GMAIL_APP_PASSWORD\")\n",
    "SENDER_EMAIL = os.getenv(\"SENDER_EMAIL\")\n"
   ]
  },
  {
   "cell_type": "code",
   "execution_count": 46,
   "metadata": {},
   "outputs": [],
   "source": [
    "genai.configure(api_key=GEMINI_API_KEY)\n",
    "model = genai.GenerativeModel(\"gemini-1.5-flash\")"
   ]
  },
  {
   "cell_type": "code",
   "execution_count": 47,
   "metadata": {},
   "outputs": [],
   "source": [
    "# generate an email \n",
    "def generate_email(subject, details):\n",
    "    prompt = f\"Wrire a proffessional email about the {subject}. Details: {details}\"\n",
    "    responce = model.generate_content(prompt)\n",
    "    return responce.text"
   ]
  },
  {
   "cell_type": "code",
   "execution_count": 48,
   "metadata": {},
   "outputs": [],
   "source": [
    "def send_email(to_email, subject, body):\n",
    "    msg = EmailMessage()\n",
    "    msg.set_content(body)\n",
    "    msg[\"Subject\"] = subject\n",
    "    msg[\"FROM\"] =SENDER_EMAIL\n",
    "    msg[\"To\"] = to_email\n",
    "\n",
    "    with smtplib.SMTP_SSL(\"smtp.gmail.com\", 465) as server:\n",
    "        server.login(SENDER_EMAIL, GMAIL_APP_PASSWORD)\n",
    "        server.send_message(msg)\n",
    "    \n",
    "\n",
    "email_body = generate_email(\"Meeting Request\", \"Requesting a meeting on Tuesday at 10 AM.\")\n",
    "send_email(\"ngambaislandngambapics@gmail.com\", \"Meeting Request\", email_body)\n"
   ]
  },
  {
   "cell_type": "code",
   "execution_count": 49,
   "metadata": {},
   "outputs": [
    {
     "name": "stdout",
     "output_type": "stream",
     "text": [
      "Login successful!\n"
     ]
    }
   ],
   "source": [
    "try:\n",
    "    with smtplib.SMTP_SSL(\"smtp.gmail.com\", 465) as server:\n",
    "        server.login(SENDER_EMAIL, GMAIL_APP_PASSWORD)\n",
    "        print(\"Login successful!\")\n",
    "except Exception as e:\n",
    "    print(f\"Error: {e}\")"
   ]
  },
  {
   "cell_type": "code",
   "execution_count": null,
   "metadata": {},
   "outputs": [],
   "source": []
  }
 ],
 "metadata": {
  "kernelspec": {
   "display_name": "Email_Agent-7nD_tv1d",
   "language": "python",
   "name": "python3"
  },
  "language_info": {
   "codemirror_mode": {
    "name": "ipython",
    "version": 3
   },
   "file_extension": ".py",
   "mimetype": "text/x-python",
   "name": "python",
   "nbconvert_exporter": "python",
   "pygments_lexer": "ipython3",
   "version": "3.11.5"
  }
 },
 "nbformat": 4,
 "nbformat_minor": 2
}
